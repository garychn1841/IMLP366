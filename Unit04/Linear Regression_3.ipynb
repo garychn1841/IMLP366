{
 "cells": [
  {
   "cell_type": "markdown",
   "metadata": {},
   "source": [
    "# Linear Regression\n"
   ]
  },
  {
   "cell_type": "code",
   "execution_count": 1,
   "metadata": {},
   "outputs": [],
   "source": [
    "%matplotlib inline\n",
    "import numpy as np\n",
    "import matplotlib.pyplot as plt\n",
    "from sklearn.linear_model import LinearRegression"
   ]
  },
  {
   "cell_type": "markdown",
   "metadata": {},
   "source": [
    "## 3. Nonlinear\n",
    "\n",
    "$$f(x) = \\sin(3.2x) + 0.8x$$\n"
   ]
  },
  {
   "cell_type": "markdown",
   "metadata": {},
   "source": [
    "### 3. 生成假資料"
   ]
  },
  {
   "cell_type": "code",
   "execution_count": 9,
   "metadata": {},
   "outputs": [],
   "source": [
    "x = np.linspace(0, 5, 100)\n",
    "y = np.sin(3.2*x) + 0.8*x + 0.3*np.random.randn(100)"
   ]
  },
  {
   "cell_type": "code",
   "execution_count": 10,
   "metadata": {},
   "outputs": [
    {
     "data": {
      "text/plain": [
       "<matplotlib.collections.PathCollection at 0x1a0330cf1c8>"
      ]
     },
     "execution_count": 10,
     "metadata": {},
     "output_type": "execute_result"
    },
    {
     "data": {
      "image/png": "[encoded data removed]",
      "text/plain": [
       "<Figure size 432x288 with 1 Axes>"
      ]
     },
     "metadata": {
      "needs_background": "light"
     },
     "output_type": "display_data"
    }
   ],
   "source": [
    "plt.scatter(x,y)"
   ]
  },
  {
   "cell_type": "markdown",
   "metadata": {},
   "source": [
    "#### nonlinear"
   ]
  },
  {
   "cell_type": "code",
   "execution_count": 11,
   "metadata": {},
   "outputs": [],
   "source": [
    "regr_lin = LinearRegression()"
   ]
  },
  {
   "cell_type": "code",
   "execution_count": 12,
   "metadata": {},
   "outputs": [
    {
     "name": "stdout",
     "output_type": "stream",
     "text": [
      "(100, 1)\n"
     ]
    }
   ],
   "source": [
    "X = x.reshape(-1, 1)\n",
    "print(X.shape)"
   ]
  },
  {
   "cell_type": "code",
   "execution_count": 13,
   "metadata": {},
   "outputs": [
    {
     "data": {
      "text/plain": [
       "LinearRegression(copy_X=True, fit_intercept=True, n_jobs=None, normalize=False)"
      ]
     },
     "execution_count": 13,
     "metadata": {},
     "output_type": "execute_result"
    }
   ],
   "source": [
    "regr_lin.fit(X,y)"
   ]
  },
  {
   "cell_type": "code",
   "execution_count": 14,
   "metadata": {},
   "outputs": [
    {
     "name": "stdout",
     "output_type": "stream",
     "text": [
      "0.5082387611562091\n"
     ]
    },
    {
     "data": {
      "image/png": "[encoded data removed]",
      "text/plain": [
       "<Figure size 432x288 with 1 Axes>"
      ]
     },
     "metadata": {
      "needs_background": "light"
     },
     "output_type": "display_data"
    }
   ],
   "source": [
    "Y=regr_lin.predict(X)\n",
    "plt.scatter(x,y)\n",
    "plt.plot(x,Y , color='r')\n",
    "mse = np.sum((Y-y)**2) / len(y)\n",
    "print(mse)"
   ]
  },
  {
   "cell_type": "markdown",
   "metadata": {},
   "source": [
    "果然超級不準, 該如何是好?"
   ]
  },
  {
   "cell_type": "markdown",
   "metadata": {},
   "source": [
    "#### 多項式\n",
    "\n",
    "多項式5次方"
   ]
  },
  {
   "cell_type": "markdown",
   "metadata": {},
   "source": [
    "$$\\widehat{y}=xw+b=w_{1}x_{1}+w_{2}x_{1}^{2}+w_{3}x_{1}^{3}+w_{4}x_{1}^{4}+w_{5}x_{1}^{5}+b$$"
   ]
  },
  {
   "cell_type": "code",
   "execution_count": 15,
   "metadata": {},
   "outputs": [
    {
     "name": "stdout",
     "output_type": "stream",
     "text": [
      "(100,)\n"
     ]
    }
   ],
   "source": [
    "print(x.shape)"
   ]
  },
  {
   "cell_type": "code",
   "execution_count": 17,
   "metadata": {},
   "outputs": [
    {
     "name": "stdout",
     "output_type": "stream",
     "text": [
      "(100, 5)\n"
     ]
    }
   ],
   "source": [
    "X_poly = np.array([[k, k**2, k**3, k**4, k**5] for k in x])  # add k**6 to try it\n",
    "print(X_poly.shape)"
   ]
  },
  {
   "cell_type": "code",
   "execution_count": 19,
   "metadata": {},
   "outputs": [],
   "source": [
    "regr_poly = LinearRegression()"
   ]
  },
  {
   "cell_type": "code",
   "execution_count": 20,
   "metadata": {},
   "outputs": [
    {
     "data": {
      "text/plain": [
       "LinearRegression(copy_X=True, fit_intercept=True, n_jobs=None, normalize=False)"
      ]
     },
     "execution_count": 20,
     "metadata": {},
     "output_type": "execute_result"
    }
   ],
   "source": [
    "regr_poly.fit(X_poly, y)"
   ]
  },
  {
   "cell_type": "code",
   "execution_count": 21,
   "metadata": {},
   "outputs": [
    {
     "data": {
      "text/plain": [
       "[<matplotlib.lines.Line2D at 0x1a0350779c8>]"
      ]
     },
     "execution_count": 21,
     "metadata": {},
     "output_type": "execute_result"
    },
    {
     "data": {
      "image/png": "[encoded data removed]",
      "text/plain": [
       "<Figure size 432x288 with 1 Axes>"
      ]
     },
     "metadata": {
      "needs_background": "light"
     },
     "output_type": "display_data"
    }
   ],
   "source": [
    "plt.scatter(x,y)\n",
    "plt.plot(x, regr_poly.predict(X_poly), 'r')"
   ]
  },
  {
   "cell_type": "code",
   "execution_count": 22,
   "metadata": {},
   "outputs": [
    {
     "name": "stdout",
     "output_type": "stream",
     "text": [
      "Coefficients:  [-3.09976954  3.9608504  -1.77062703  0.35482793 -0.02594774]\n",
      "interception:  1.2996533075661585\n"
     ]
    }
   ],
   "source": [
    "print('Coefficients: ', regr_poly.coef_)\n",
    "print('interception: ', regr_poly.intercept_)"
   ]
  },
  {
   "cell_type": "code",
   "execution_count": 23,
   "metadata": {},
   "outputs": [
    {
     "data": {
      "text/plain": [
       "array([1.29965331, 1.15297667, 1.02516983, 0.91494601, 0.82107178,\n",
       "       0.74236605, 0.67769905, 0.6259913 , 0.58621258, 0.55738092,\n",
       "       0.53856158, 0.528866  , 0.52745083, 0.53351683, 0.54630791,\n",
       "       0.5651101 , 0.58925049, 0.61809623, 0.65105353, 0.68756658,\n",
       "       0.7271166 , 0.76922073, 0.8134311 , 0.85933372, 0.90654753,\n",
       "       0.95472332, 1.00354275, 1.0527173 , 1.10198725, 1.15112066,\n",
       "       1.19991237, 1.24818292, 1.29577759, 1.34256533, 1.38843778,\n",
       "       1.4333082 , 1.47711047, 1.51979808, 1.56134308, 1.60173507,\n",
       "       1.6409802 , 1.67910008, 1.71613084, 1.75212204, 1.78713569,\n",
       "       1.82124521, 1.85453439, 1.88709641, 1.91903276, 1.95045228,\n",
       "       1.98147007, 2.01220655, 2.04278633, 2.07333729, 2.10398949,\n",
       "       2.13487417, 2.16612274, 2.19786573, 2.23023177, 2.26334659,\n",
       "       2.29733198, 2.33230477, 2.36837581, 2.40564892, 2.44421993,\n",
       "       2.48417558, 2.52559255, 2.56853643, 2.61306065, 2.65920555,\n",
       "       2.70699724, 2.75644669, 2.80754863, 2.86028054, 2.91460166,\n",
       "       2.97045194, 3.02775101, 3.08639717, 3.1462664 , 3.20721124,\n",
       "       3.26905988, 3.33161507, 3.39465311, 3.45792282, 3.52114454,\n",
       "       3.5840091 , 3.64617677, 3.70727627, 3.76690372, 3.82462165,\n",
       "       3.87995794, 3.93240483, 3.98141785, 4.02641488, 4.06677501,\n",
       "       4.10183764, 4.13090135, 4.15322296, 4.16801646, 4.17445199])"
      ]
     },
     "execution_count": 23,
     "metadata": {},
     "output_type": "execute_result"
    }
   ],
   "source": [
    "W=regr_poly.coef_\n",
    "b=regr_poly.intercept_\n",
    "np.dot(X_poly,W.T)+b"
   ]
  },
  {
   "cell_type": "code",
   "execution_count": 24,
   "metadata": {},
   "outputs": [
    {
     "data": {
      "text/plain": [
       "array([1.29965331, 1.15297667, 1.02516983, 0.91494601, 0.82107178,\n",
       "       0.74236605, 0.67769905, 0.6259913 , 0.58621258, 0.55738092,\n",
       "       0.53856158, 0.528866  , 0.52745083, 0.53351683, 0.54630791,\n",
       "       0.5651101 , 0.58925049, 0.61809623, 0.65105353, 0.68756658,\n",
       "       0.7271166 , 0.76922073, 0.8134311 , 0.85933372, 0.90654753,\n",
       "       0.95472332, 1.00354275, 1.0527173 , 1.10198725, 1.15112066,\n",
       "       1.19991237, 1.24818292, 1.29577759, 1.34256533, 1.38843778,\n",
       "       1.4333082 , 1.47711047, 1.51979808, 1.56134308, 1.60173507,\n",
       "       1.6409802 , 1.67910008, 1.71613084, 1.75212204, 1.78713569,\n",
       "       1.82124521, 1.85453439, 1.88709641, 1.91903276, 1.95045228,\n",
       "       1.98147007, 2.01220655, 2.04278633, 2.07333729, 2.10398949,\n",
       "       2.13487417, 2.16612274, 2.19786573, 2.23023177, 2.26334659,\n",
       "       2.29733198, 2.33230477, 2.36837581, 2.40564892, 2.44421993,\n",
       "       2.48417558, 2.52559255, 2.56853643, 2.61306065, 2.65920555,\n",
       "       2.70699724, 2.75644669, 2.80754863, 2.86028054, 2.91460166,\n",
       "       2.97045194, 3.02775101, 3.08639717, 3.1462664 , 3.20721124,\n",
       "       3.26905988, 3.33161507, 3.39465311, 3.45792282, 3.52114454,\n",
       "       3.5840091 , 3.64617677, 3.70727627, 3.76690372, 3.82462165,\n",
       "       3.87995794, 3.93240483, 3.98141785, 4.02641488, 4.06677501,\n",
       "       4.10183764, 4.13090135, 4.15322296, 4.16801646, 4.17445199])"
      ]
     },
     "execution_count": 24,
     "metadata": {},
     "output_type": "execute_result"
    }
   ],
   "source": [
    "regr_poly.predict(X_poly)"
   ]
  },
  {
   "cell_type": "markdown",
   "metadata": {},
   "source": [
    "#### RBF\n",
    "\n",
    "$$\\phi_i = e^{-\\| x - c_i \\|^2/2\\sigma^2}$$"
   ]
  },
  {
   "cell_type": "code",
   "execution_count": 25,
   "metadata": {},
   "outputs": [],
   "source": [
    "# normal distrubution\n",
    "def RBF(x, center, sigma):\n",
    "    k = np.exp(-(x - center)**2/(2*sigma**2))\n",
    "    return k"
   ]
  },
  {
   "cell_type": "code",
   "execution_count": 26,
   "metadata": {},
   "outputs": [],
   "source": [
    "sigma = 0.3"
   ]
  },
  {
   "cell_type": "code",
   "execution_count": 27,
   "metadata": {},
   "outputs": [],
   "source": [
    "X_rbf = np.array([[RBF(k, .5, sigma), \n",
    "                  RBF(k, 1.5, sigma),\n",
    "                  RBF(k, 2.5, sigma),\n",
    "                  RBF(k, 3.5, sigma),\n",
    "                  RBF(k, 4.5, sigma)] for k in x])\n",
    "\n"
   ]
  },
  {
   "cell_type": "code",
   "execution_count": 28,
   "metadata": {},
   "outputs": [],
   "source": [
    "regr_rbf = LinearRegression()"
   ]
  },
  {
   "cell_type": "code",
   "execution_count": 29,
   "metadata": {},
   "outputs": [
    {
     "data": {
      "text/plain": [
       "LinearRegression(copy_X=True, fit_intercept=True, n_jobs=None, normalize=False)"
      ]
     },
     "execution_count": 29,
     "metadata": {},
     "output_type": "execute_result"
    }
   ],
   "source": [
    "regr_rbf.fit(X_rbf, y)"
   ]
  },
  {
   "cell_type": "code",
   "execution_count": 30,
   "metadata": {
    "scrolled": true
   },
   "outputs": [
    {
     "data": {
      "text/plain": [
       "[<matplotlib.lines.Line2D at 0x1a0350dd048>]"
      ]
     },
     "execution_count": 30,
     "metadata": {},
     "output_type": "execute_result"
    },
    {
     "data": {
      "image/png": "[encoded data removed]",
      "text/plain": [
       "<Figure size 432x288 with 1 Axes>"
      ]
     },
     "metadata": {
      "needs_background": "light"
     },
     "output_type": "display_data"
    }
   ],
   "source": [
    "plt.scatter(x,y)\n",
    "plt.plot(x, regr_rbf.predict(X_rbf), 'r')"
   ]
  },
  {
   "cell_type": "code",
   "execution_count": 31,
   "metadata": {},
   "outputs": [
    {
     "name": "stdout",
     "output_type": "stream",
     "text": [
      "Coefficients:  [-1.12014366 -1.85440165  1.12755725  0.03016448  2.92354134]\n",
      "interception:  1.91702986842808\n"
     ]
    }
   ],
   "source": [
    "print('Coefficients: ', regr_rbf.coef_)\n",
    "print('interception: ', regr_rbf.intercept_)"
   ]
  },
  {
   "cell_type": "markdown",
   "metadata": {},
   "source": [
    "#### Comparison"
   ]
  },
  {
   "cell_type": "code",
   "execution_count": 32,
   "metadata": {},
   "outputs": [],
   "source": [
    "Y_lin = regr_lin.predict(X)\n",
    "Y_poly = regr_poly.predict(X_poly)\n",
    "Y_rbf = regr_rbf.predict(X_rbf)"
   ]
  },
  {
   "cell_type": "code",
   "execution_count": 33,
   "metadata": {
    "scrolled": true
   },
   "outputs": [
    {
     "data": {
      "text/plain": [
       "<matplotlib.legend.Legend at 0x1a0351a0f88>"
      ]
     },
     "execution_count": 33,
     "metadata": {},
     "output_type": "execute_result"
    },
    {
     "data": {
      "image/png": "[encoded data removed]",
      "text/plain": [
       "<Figure size 432x288 with 1 Axes>"
      ]
     },
     "metadata": {
      "needs_background": "light"
     },
     "output_type": "display_data"
    }
   ],
   "source": [
    "plt.scatter(x,y)\n",
    "\n",
    "plt.plot(x, Y_lin, label='linear')\n",
    "plt.plot(x, Y_poly, label='polynomial')\n",
    "plt.plot(x, Y_rbf, label='rbf')\n",
    "plt.legend()"
   ]
  },
  {
   "cell_type": "markdown",
   "metadata": {
    "collapsed": true
   },
   "source": [
    "## 請計算模型的MSE"
   ]
  },
  {
   "cell_type": "code",
   "execution_count": 36,
   "metadata": {},
   "outputs": [
    {
     "name": "stdout",
     "output_type": "stream",
     "text": [
      "0.5082387611562091\n"
     ]
    }
   ],
   "source": [
    "print(np.sum((regr_lin.predict(X)-y)**2) / len(y))"
   ]
  },
  {
   "cell_type": "code",
   "execution_count": 37,
   "metadata": {},
   "outputs": [
    {
     "name": "stdout",
     "output_type": "stream",
     "text": [
      "0.4487273143701057\n"
     ]
    }
   ],
   "source": [
    "print(np.sum((regr_poly.predict(X_poly)-y)**2) / len(y))"
   ]
  },
  {
   "cell_type": "code",
   "execution_count": 38,
   "metadata": {},
   "outputs": [
    {
     "name": "stdout",
     "output_type": "stream",
     "text": [
      "0.23225369673652807\n"
     ]
    }
   ],
   "source": [
    "print(np.sum((regr_rbf.predict(X_rbf)-y)**2) / len(y))"
   ]
  },
  {
   "cell_type": "code",
   "execution_count": null,
   "metadata": {},
   "outputs": [],
   "source": []
  },
  {
   "cell_type": "code",
   "execution_count": null,
   "metadata": {},
   "outputs": [],
   "source": []
  }
 ],
 "metadata": {
  "anaconda-cloud": {},
  "kernelspec": {
   "display_name": "Python 3",
   "language": "python",
   "name": "python3"
  },
  "language_info": {
   "codemirror_mode": {
    "name": "ipython",
    "version": 3
   },
   "file_extension": ".py",
   "mimetype": "text/x-python",
   "name": "python",
   "nbconvert_exporter": "python",
   "pygments_lexer": "ipython3",
   "version": "3.7.6"
  }
 },
 "nbformat": 4,
 "nbformat_minor": 1
}
